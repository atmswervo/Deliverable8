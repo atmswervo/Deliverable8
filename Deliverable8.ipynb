{
 "cells": [
  {
   "cell_type": "code",
   "execution_count": 1,
   "id": "a2658c9c",
   "metadata": {},
   "outputs": [],
   "source": [
    "import numpy as np "
   ]
  },
  {
   "cell_type": "code",
   "execution_count": 5,
   "id": "b79e052a",
   "metadata": {},
   "outputs": [
    {
     "data": {
      "text/plain": [
       "array([42, 10, 37, 44, 16, 20, 10, 15, 14, 32, 27, 13, 13, 33, 23, 36, 37,\n",
       "       42, 41, 40, 41, 28, 34, 47, 13, 24, 30, 31, 10, 18, 25, 34, 47, 17,\n",
       "       22, 44, 29, 35, 29, 31, 25, 49, 28, 17, 30, 16, 11, 28, 11, 38, 43,\n",
       "       27, 33, 49, 39, 21, 25, 35, 28, 10, 22, 42, 36, 16, 33, 41, 20, 16,\n",
       "       21, 40, 48, 17, 27, 26, 10, 47, 19, 10, 22, 14, 36, 19, 21, 21, 38,\n",
       "       23, 48, 13, 41, 13, 33, 45, 35, 49, 30, 27, 10, 41, 32, 11])"
      ]
     },
     "execution_count": 5,
     "metadata": {},
     "output_type": "execute_result"
    }
   ],
   "source": [
    "np.random.randint(10,50, size = 100)"
   ]
  },
  {
   "cell_type": "code",
   "execution_count": 7,
   "id": "72238497",
   "metadata": {},
   "outputs": [],
   "source": [
    "def random_list(size):\n",
    "    list =[]\n",
    "    for i in range(size):\n",
    "        list.append(np.random.randint(10,50))\n",
    "    return list\n",
    "\n",
    "def sum_random (list):\n",
    "    sum = 0\n",
    "    for i in range(len(list)):\n",
    "        sum = sum + list[i]\n",
    "    return sum"
   ]
  },
  {
   "cell_type": "code",
   "execution_count": 9,
   "id": "a008afc0",
   "metadata": {},
   "outputs": [
    {
     "name": "stdout",
     "output_type": "stream",
     "text": [
      "Enter an integer: 10\n"
     ]
    }
   ],
   "source": [
    "n = int(input(\"Enter an integer: \"))"
   ]
  },
  {
   "cell_type": "code",
   "execution_count": 12,
   "id": "8f5e95f6",
   "metadata": {},
   "outputs": [
    {
     "data": {
      "text/plain": [
       "[46, 30, 15, 10, 23, 46, 39, 40, 48, 47]"
      ]
     },
     "execution_count": 12,
     "metadata": {},
     "output_type": "execute_result"
    }
   ],
   "source": [
    "MyList = random_list(n)\n",
    "MyList"
   ]
  },
  {
   "cell_type": "code",
   "execution_count": 18,
   "id": "83ed84a9",
   "metadata": {},
   "outputs": [
    {
     "data": {
      "text/plain": [
       "344"
      ]
     },
     "execution_count": 18,
     "metadata": {},
     "output_type": "execute_result"
    }
   ],
   "source": [
    "MySum = sum(MyList)\n",
    "MySum"
   ]
  },
  {
   "cell_type": "code",
   "execution_count": 16,
   "id": "0ac2695f",
   "metadata": {},
   "outputs": [
    {
     "data": {
      "text/plain": [
       "array([11, 27, 18, 47, 25, 32, 22, 22, 49, 13])"
      ]
     },
     "execution_count": 16,
     "metadata": {},
     "output_type": "execute_result"
    }
   ],
   "source": [
    "MyList2 = np.random.randint(10, 50, n)\n",
    "MyList2"
   ]
  },
  {
   "cell_type": "code",
   "execution_count": 17,
   "id": "fe169a9e",
   "metadata": {},
   "outputs": [
    {
     "data": {
      "text/plain": [
       "266"
      ]
     },
     "execution_count": 17,
     "metadata": {},
     "output_type": "execute_result"
    }
   ],
   "source": [
    "MySum2 = sum(MyList2)\n",
    "MySum2"
   ]
  },
  {
   "cell_type": "code",
   "execution_count": null,
   "id": "ca2f1295",
   "metadata": {},
   "outputs": [],
   "source": []
  }
 ],
 "metadata": {
  "kernelspec": {
   "display_name": "Python 3 (ipykernel)",
   "language": "python",
   "name": "python3"
  },
  "language_info": {
   "codemirror_mode": {
    "name": "ipython",
    "version": 3
   },
   "file_extension": ".py",
   "mimetype": "text/x-python",
   "name": "python",
   "nbconvert_exporter": "python",
   "pygments_lexer": "ipython3",
   "version": "3.9.13"
  }
 },
 "nbformat": 4,
 "nbformat_minor": 5
}
